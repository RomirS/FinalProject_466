{
 "cells": [
  {
   "cell_type": "markdown",
   "metadata": {},
   "source": [
    "### Installing required packages"
   ]
  },
  {
   "cell_type": "code",
   "execution_count": null,
   "metadata": {},
   "outputs": [],
   "source": [
    "! pip install numpy\n",
    "! pip install pandas"
   ]
  },
  {
   "cell_type": "code",
   "execution_count": null,
   "metadata": {},
   "outputs": [],
   "source": [
    "import numpy as np\n",
    "import pandas as pd\n",
    "import json\n",
    "from os import path\n",
    "from pprint import pprint"
   ]
  },
  {
   "cell_type": "markdown",
   "metadata": {},
   "source": [
    "### Data extraction"
   ]
  },
  {
   "cell_type": "code",
   "execution_count": null,
   "metadata": {},
   "outputs": [],
   "source": [
    "def prepare_data(data, variant):\n",
    "  file = open(f\"./data/{variant}.txt\")\n",
    "\n",
    "  while True:\n",
    "    content=file.readline()\n",
    "    if not content:\n",
    "      break\n",
    "    \n",
    "    if content[0] == \">\":\n",
    "      headers = content[:-2].split(\"|\")\n",
    "      name = headers[0].split(\"/\")[-2]\n",
    "      access_id = headers[1]\n",
    "      collection_date = headers[2]\n",
    "      data.append({\n",
    "        \"variant\": variant,\n",
    "        \"name\": name,\n",
    "        \"access_id\": access_id,\n",
    "        \"collection_date\": collection_date,\n",
    "        \"sequence\": \"\"\n",
    "      })\n",
    "    else:\n",
    "      data[-1][\"sequence\"] = data[-1][\"sequence\"] + content[:-1]\n",
    "  file.close()"
   ]
  },
  {
   "cell_type": "code",
   "execution_count": null,
   "metadata": {},
   "outputs": [],
   "source": [
    "\n",
    "variants = [\"alpha\", \"beta\", \"gamma\", \"delta\", \"omicron\"]\n",
    "data = []\n",
    "for variant in variants:\n",
    "  prepare_data(data, variant)\n",
    "\n",
    "filtered_data = []\n",
    "variant_counts = {}\n",
    "for v in variants:\n",
    "  variant_counts[v] = 0\n",
    "MAX_COUNT = 4\n",
    "\n",
    "padding = 1500\n",
    "for row in data:\n",
    "  if variant_counts[row[\"variant\"]] == MAX_COUNT:\n",
    "    continue\n",
    "  \n",
    "  spike_sequence = row[\"sequence\"][21563+padding:25384-padding]\n",
    "  if not(\"N\" in spike_sequence):\n",
    "    variant_counts[row[\"variant\"]] = variant_counts[row[\"variant\"]] + 1\n",
    "    row[\"sequence\"] = spike_sequence\n",
    "    filtered_data.append(row)\n",
    "df = pd.DataFrame(filtered_data)"
   ]
  },
  {
   "cell_type": "markdown",
   "metadata": {},
   "source": [
    "### Pairwise Alignment and Edit Distance"
   ]
  },
  {
   "cell_type": "code",
   "execution_count": null,
   "metadata": {},
   "outputs": [],
   "source": [
    "UP = (-1,0)\n",
    "LEFT = (0, -1)\n",
    "TOPLEFT = (-1, -1)\n",
    "ORIGIN = (0, 0)\n",
    "\n",
    "def traceback_global(v, w, pointers):\n",
    "    i,j = len(v), len(w)\n",
    "    new_v = []\n",
    "    new_w = []\n",
    "    while True:\n",
    "        di, dj = pointers[i][j]\n",
    "        if (di,dj) == LEFT:\n",
    "            new_v.append('-')\n",
    "            new_w.append(w[j-1])\n",
    "        elif (di,dj) == UP:\n",
    "            new_v.append(v[i-1])\n",
    "            new_w.append('-')\n",
    "        elif (di,dj) == TOPLEFT:\n",
    "            new_v.append(v[i-1])\n",
    "            new_w.append(w[j-1])\n",
    "        i, j = i + di, j + dj\n",
    "        if (i <= 0 and j <= 0):\n",
    "            break\n",
    "    return ''.join(new_v[::-1])+'\\n'+''.join(new_w[::-1])\n",
    "\n",
    "def edit_distance(v, w, delta):\n",
    "    M = [[0 for j in range(len(w)+1)] for i in range(len(v)+1)]\n",
    "    pointers = [[ORIGIN for j in range(len(w)+1)] for i in range(len(v)+1)]\n",
    "    score, alignment = None, None\n",
    "\n",
    "    for i in range(len(v)+1):\n",
    "      for j in range(len(w)+1):\n",
    "        if i == 0 and j == 0:\n",
    "          continue\n",
    "\n",
    "        temp_score = float(\"inf\")\n",
    "        temp_pointer = ORIGIN\n",
    "        if i > 0:\n",
    "          deletion_score = M[i-1][j] + delta[v[i-1]]['-']\n",
    "          if deletion_score <= temp_score:\n",
    "            temp_score = deletion_score\n",
    "            temp_pointer = UP\n",
    "        if j > 0:\n",
    "          insertion_score = M[i][j-1] + delta['-'][w[j-1]]\n",
    "          if insertion_score <= temp_score:\n",
    "            temp_score = insertion_score\n",
    "            temp_pointer = LEFT\n",
    "        if i > 0 and j > 0:\n",
    "          match_score = M[i-1][j-1] + delta[v[i-1]][w[j-1]]\n",
    "          if match_score <= temp_score:\n",
    "            temp_score = match_score\n",
    "            temp_pointer = TOPLEFT\n",
    "\n",
    "        M[i][j] = temp_score\n",
    "        pointers[i][j] = temp_pointer\n",
    "\n",
    "    score = M[len(v)][len(w)]\n",
    "    alignment = traceback_global(v,w, pointers)\n",
    "    return score, alignment"
   ]
  },
  {
   "cell_type": "code",
   "execution_count": null,
   "metadata": {},
   "outputs": [],
   "source": [
    "dist = {}\n",
    "keys = ['A', 'C', 'T', 'G', '-']\n",
    "delta = {}\n",
    "for i in range(len(keys)):\n",
    "    delta[keys[i]] = {k : v for (k,v) in zip(keys, [0 if keys[i] == keys[j]  else 1 for j in range(len(keys))])}\n",
    "\n",
    "file_loc = './data/dist.txt'\n",
    "if not(path.isfile(file_loc)):\n",
    "  c = 0\n",
    "  for i in range(len(filtered_data)):\n",
    "    for j in range(i + 1, len(filtered_data)):\n",
    "      # if c > 1:\n",
    "      #   break\n",
    "      # c += 1\n",
    "      \n",
    "      a = filtered_data[i]\n",
    "      b = filtered_data[j]\n",
    "      an = a[\"name\"]\n",
    "      bn = b[\"name\"]\n",
    "      \n",
    "      score, alignment = edit_distance(a[\"sequence\"], b[\"sequence\"], delta)\n",
    "      \n",
    "      if not(an in dist):\n",
    "        dist[an] = {}\n",
    "      if not(bn in dist):\n",
    "        dist[bn] = {}\n",
    "      \n",
    "      dist[an][bn] = score\n",
    "      dist[bn][an] = score\n",
    "  with open(file_loc, \"w\") as fp:\n",
    "    json.dump(dist, fp)"
   ]
  },
  {
   "cell_type": "code",
   "execution_count": null,
   "metadata": {},
   "outputs": [],
   "source": []
  }
 ],
 "metadata": {
  "kernelspec": {
   "display_name": ".venv",
   "language": "python",
   "name": "python3"
  },
  "language_info": {
   "codemirror_mode": {
    "name": "ipython",
    "version": 3
   },
   "file_extension": ".py",
   "mimetype": "text/x-python",
   "name": "python",
   "nbconvert_exporter": "python",
   "pygments_lexer": "ipython3",
   "version": "3.10.13"
  }
 },
 "nbformat": 4,
 "nbformat_minor": 2
}
