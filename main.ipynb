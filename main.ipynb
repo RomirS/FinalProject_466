{
 "cells": [
  {
   "cell_type": "markdown",
   "metadata": {},
   "source": [
    "### Installing required packages"
   ]
  },
  {
   "cell_type": "code",
   "execution_count": null,
   "metadata": {},
   "outputs": [],
   "source": [
    "! pip install numpy\n",
    "! pip install pandas"
   ]
  },
  {
   "cell_type": "code",
   "execution_count": null,
   "metadata": {},
   "outputs": [],
   "source": [
    "import numpy as np\n",
    "import pandas as pd"
   ]
  },
  {
   "cell_type": "markdown",
   "metadata": {},
   "source": [
    "### Data extraction"
   ]
  },
  {
   "cell_type": "code",
   "execution_count": null,
   "metadata": {},
   "outputs": [],
   "source": [
    "def prepare_data(data, variant):\n",
    "  file = open(f\"./data/{variant}.txt\")\n",
    "\n",
    "  while True:\n",
    "    content=file.readline()\n",
    "    if not content:\n",
    "      break\n",
    "    \n",
    "    if content[0] == \">\":\n",
    "      headers = content[:-2].split(\"|\")\n",
    "      name = headers[0].split(\"/\")[-2]\n",
    "      access_id = headers[1]\n",
    "      collection_date = headers[2]\n",
    "      data.append({\n",
    "        \"variant\": variant,\n",
    "        \"name\": name,\n",
    "        \"access_id\": access_id,\n",
    "        \"collection_date\": collection_date,\n",
    "        \"sequence\": \"\"\n",
    "      })\n",
    "    else:\n",
    "      data[-1][\"sequence\"] = data[-1][\"sequence\"] + content[:-1]\n",
    "  file.close()"
   ]
  },
  {
   "cell_type": "code",
   "execution_count": null,
   "metadata": {},
   "outputs": [],
   "source": [
    "\n",
    "variants = [\"alpha\", \"beta\", \"gamma\", \"delta\", \"omicron\"]\n",
    "data = []\n",
    "for variant in variants:\n",
    "  prepare_data(data, variant)\n",
    "\n",
    "filtered_data = []\n",
    "for row in data:\n",
    "  if not(\"N\" in row[\"sequence\"]):\n",
    "    filtered_data.append(row)\n",
    "df = pd.DataFrame(filtered_data)\n",
    "df.head()"
   ]
  }
 ],
 "metadata": {
  "kernelspec": {
   "display_name": ".venv",
   "language": "python",
   "name": "python3"
  },
  "language_info": {
   "codemirror_mode": {
    "name": "ipython",
    "version": 3
   },
   "file_extension": ".py",
   "mimetype": "text/x-python",
   "name": "python",
   "nbconvert_exporter": "python",
   "pygments_lexer": "ipython3",
   "version": "3.10.13"
  }
 },
 "nbformat": 4,
 "nbformat_minor": 2
}
